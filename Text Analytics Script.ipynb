{
 "cells": [
  {
   "cell_type": "code",
   "execution_count": 2,
   "metadata": {
    "collapsed": true
   },
   "outputs": [],
   "source": [
    "import numpy as np\n",
    "import pandas as pd"
   ]
  },
  {
   "cell_type": "code",
   "execution_count": 28,
   "metadata": {
    "collapsed": true
   },
   "outputs": [],
   "source": [
    "ta = pd.read_excel('C:\\\\Users\\\\f5708\\\\Documents\\\\text analytics opportunity.xlsx',sheetname='No and Opp Trends')\n",
    "#this is the method until reading and writing to sharepoint is figured out"
   ]
  },
  {
   "cell_type": "code",
   "execution_count": 29,
   "metadata": {
    "collapsed": true
   },
   "outputs": [],
   "source": [
    "ta = ta[['Call_Date','callduration','questiontext','QuestionResult','NoteText']]\n",
    "#keeping the fields that are important"
   ]
  },
  {
   "cell_type": "code",
   "execution_count": 30,
   "metadata": {
    "collapsed": true
   },
   "outputs": [],
   "source": [
    "ta = ta.set_index('questiontext')\n",
    "ta1 = ta.loc[['Accuracy']]\n",
    "ta2 = ta.loc[['Active Listening']]\n",
    "ta3 = ta.loc[['Awareness']]\n",
    "ta4 = ta.loc[['Call Record']]\n",
    "ta5 = ta.loc[['Professionalism']]\n",
    "ta6 = ta.loc[['Resolution']]\n",
    "ta7 = ta.loc[['Scripting']]\n",
    "ta8 = ta.loc[['Security Upheld']]\n",
    "ta.reset_index(inplace=True)\n",
    "ta1.reset_index(inplace=True)\n",
    "ta2.reset_index(inplace=True)\n",
    "ta3.reset_index(inplace=True)\n",
    "ta4.reset_index(inplace=True)\n",
    "ta5.reset_index(inplace=True)\n",
    "ta6.reset_index(inplace=True)\n",
    "ta7.reset_index(inplace=True)\n",
    "ta8.reset_index(inplace=True)\n",
    "#splitting the dataframe up to cut up the notes after the operative word"
   ]
  },
  {
   "cell_type": "code",
   "execution_count": 31,
   "metadata": {
    "scrolled": true
   },
   "outputs": [
    {
     "name": "stderr",
     "output_type": "stream",
     "text": [
      "C:\\Apps\\lib\\site-packages\\ipykernel_launcher.py:1: SettingWithCopyWarning: \n",
      "A value is trying to be set on a copy of a slice from a DataFrame.\n",
      "Try using .loc[row_indexer,col_indexer] = value instead\n",
      "\n",
      "See the caveats in the documentation: http://pandas.pydata.org/pandas-docs/stable/indexing.html#indexing-view-versus-copy\n",
      "  \"\"\"Entry point for launching an IPython kernel.\n",
      "C:\\Apps\\lib\\site-packages\\ipykernel_launcher.py:2: SettingWithCopyWarning: \n",
      "A value is trying to be set on a copy of a slice from a DataFrame.\n",
      "Try using .loc[row_indexer,col_indexer] = value instead\n",
      "\n",
      "See the caveats in the documentation: http://pandas.pydata.org/pandas-docs/stable/indexing.html#indexing-view-versus-copy\n",
      "  \n",
      "C:\\Apps\\lib\\site-packages\\ipykernel_launcher.py:3: SettingWithCopyWarning: \n",
      "A value is trying to be set on a copy of a slice from a DataFrame.\n",
      "Try using .loc[row_indexer,col_indexer] = value instead\n",
      "\n",
      "See the caveats in the documentation: http://pandas.pydata.org/pandas-docs/stable/indexing.html#indexing-view-versus-copy\n",
      "  This is separate from the ipykernel package so we can avoid doing imports until\n",
      "C:\\Apps\\lib\\site-packages\\ipykernel_launcher.py:4: SettingWithCopyWarning: \n",
      "A value is trying to be set on a copy of a slice from a DataFrame.\n",
      "Try using .loc[row_indexer,col_indexer] = value instead\n",
      "\n",
      "See the caveats in the documentation: http://pandas.pydata.org/pandas-docs/stable/indexing.html#indexing-view-versus-copy\n",
      "  after removing the cwd from sys.path.\n",
      "C:\\Apps\\lib\\site-packages\\ipykernel_launcher.py:5: SettingWithCopyWarning: \n",
      "A value is trying to be set on a copy of a slice from a DataFrame.\n",
      "Try using .loc[row_indexer,col_indexer] = value instead\n",
      "\n",
      "See the caveats in the documentation: http://pandas.pydata.org/pandas-docs/stable/indexing.html#indexing-view-versus-copy\n",
      "  \"\"\"\n",
      "C:\\Apps\\lib\\site-packages\\ipykernel_launcher.py:6: SettingWithCopyWarning: \n",
      "A value is trying to be set on a copy of a slice from a DataFrame.\n",
      "Try using .loc[row_indexer,col_indexer] = value instead\n",
      "\n",
      "See the caveats in the documentation: http://pandas.pydata.org/pandas-docs/stable/indexing.html#indexing-view-versus-copy\n",
      "  \n",
      "C:\\Apps\\lib\\site-packages\\ipykernel_launcher.py:7: SettingWithCopyWarning: \n",
      "A value is trying to be set on a copy of a slice from a DataFrame.\n",
      "Try using .loc[row_indexer,col_indexer] = value instead\n",
      "\n",
      "See the caveats in the documentation: http://pandas.pydata.org/pandas-docs/stable/indexing.html#indexing-view-versus-copy\n",
      "  import sys\n",
      "C:\\Apps\\lib\\site-packages\\ipykernel_launcher.py:8: SettingWithCopyWarning: \n",
      "A value is trying to be set on a copy of a slice from a DataFrame.\n",
      "Try using .loc[row_indexer,col_indexer] = value instead\n",
      "\n",
      "See the caveats in the documentation: http://pandas.pydata.org/pandas-docs/stable/indexing.html#indexing-view-versus-copy\n",
      "  \n",
      "C:\\Apps\\lib\\site-packages\\ipykernel_launcher.py:9: SettingWithCopyWarning: \n",
      "A value is trying to be set on a copy of a slice from a DataFrame.\n",
      "Try using .loc[row_indexer,col_indexer] = value instead\n",
      "\n",
      "See the caveats in the documentation: http://pandas.pydata.org/pandas-docs/stable/indexing.html#indexing-view-versus-copy\n",
      "  if __name__ == '__main__':\n",
      "C:\\Apps\\lib\\site-packages\\ipykernel_launcher.py:10: SettingWithCopyWarning: \n",
      "A value is trying to be set on a copy of a slice from a DataFrame.\n",
      "Try using .loc[row_indexer,col_indexer] = value instead\n",
      "\n",
      "See the caveats in the documentation: http://pandas.pydata.org/pandas-docs/stable/indexing.html#indexing-view-versus-copy\n",
      "  # Remove the CWD from sys.path while we load stuff.\n",
      "C:\\Apps\\lib\\site-packages\\ipykernel_launcher.py:11: SettingWithCopyWarning: \n",
      "A value is trying to be set on a copy of a slice from a DataFrame.\n",
      "Try using .loc[row_indexer,col_indexer] = value instead\n",
      "\n",
      "See the caveats in the documentation: http://pandas.pydata.org/pandas-docs/stable/indexing.html#indexing-view-versus-copy\n",
      "  # This is added back by InteractiveShellApp.init_path()\n",
      "C:\\Apps\\lib\\site-packages\\ipykernel_launcher.py:12: SettingWithCopyWarning: \n",
      "A value is trying to be set on a copy of a slice from a DataFrame.\n",
      "Try using .loc[row_indexer,col_indexer] = value instead\n",
      "\n",
      "See the caveats in the documentation: http://pandas.pydata.org/pandas-docs/stable/indexing.html#indexing-view-versus-copy\n",
      "  if sys.path[0] == '':\n",
      "C:\\Apps\\lib\\site-packages\\ipykernel_launcher.py:13: SettingWithCopyWarning: \n",
      "A value is trying to be set on a copy of a slice from a DataFrame.\n",
      "Try using .loc[row_indexer,col_indexer] = value instead\n",
      "\n",
      "See the caveats in the documentation: http://pandas.pydata.org/pandas-docs/stable/indexing.html#indexing-view-versus-copy\n",
      "  del sys.path[0]\n",
      "C:\\Apps\\lib\\site-packages\\ipykernel_launcher.py:14: SettingWithCopyWarning: \n",
      "A value is trying to be set on a copy of a slice from a DataFrame.\n",
      "Try using .loc[row_indexer,col_indexer] = value instead\n",
      "\n",
      "See the caveats in the documentation: http://pandas.pydata.org/pandas-docs/stable/indexing.html#indexing-view-versus-copy\n",
      "  \n",
      "C:\\Apps\\lib\\site-packages\\ipykernel_launcher.py:15: SettingWithCopyWarning: \n",
      "A value is trying to be set on a copy of a slice from a DataFrame.\n",
      "Try using .loc[row_indexer,col_indexer] = value instead\n",
      "\n",
      "See the caveats in the documentation: http://pandas.pydata.org/pandas-docs/stable/indexing.html#indexing-view-versus-copy\n",
      "  from ipykernel import kernelapp as app\n",
      "C:\\Apps\\lib\\site-packages\\ipykernel_launcher.py:16: SettingWithCopyWarning: \n",
      "A value is trying to be set on a copy of a slice from a DataFrame.\n",
      "Try using .loc[row_indexer,col_indexer] = value instead\n",
      "\n",
      "See the caveats in the documentation: http://pandas.pydata.org/pandas-docs/stable/indexing.html#indexing-view-versus-copy\n",
      "  app.launch_new_instance()\n"
     ]
    }
   ],
   "source": [
    "ta1['NoteText'] = ta1.NoteText.str.lower()\n",
    "ta2['NoteText'] = ta2.NoteText.str.lower()\n",
    "ta3['NoteText'] = ta3.NoteText.str.lower()\n",
    "ta4['NoteText'] = ta4.NoteText.str.lower()\n",
    "ta5['NoteText'] = ta5.NoteText.str.lower()\n",
    "ta6['NoteText'] = ta6.NoteText.str.lower()\n",
    "ta7['NoteText'] = ta7.NoteText.str.lower()\n",
    "ta8['NoteText'] = ta8.NoteText.str.lower()\n",
    "ta1['NoteText'] = ta1.NoteText.str.split('accuracy').str[1]\n",
    "ta2['NoteText'] = ta2.NoteText.str.split('active listening').str[1]\n",
    "ta3['NoteText'] = ta3.NoteText.str.split('awareness').str[1]\n",
    "ta4['NoteText'] = ta4.NoteText.str.split('call record').str[1]\n",
    "ta5['NoteText'] = ta5.NoteText.str.split('professionalism').str[1]\n",
    "ta6['NoteText'] = ta6.NoteText.str.split('resolution').str[1]\n",
    "ta7['NoteText'] = ta7.NoteText.str.split('scripting').str[1]\n",
    "ta8['NoteText'] = ta8.NoteText.str.split('security upheld').str[1]\n",
    "#setting to everything to lowercase so the operative word can be found easier then splitting the string "
   ]
  },
  {
   "cell_type": "code",
   "execution_count": 32,
   "metadata": {},
   "outputs": [
    {
     "name": "stderr",
     "output_type": "stream",
     "text": [
      "C:\\Apps\\lib\\site-packages\\ipykernel_launcher.py:1: SettingWithCopyWarning: \n",
      "A value is trying to be set on a copy of a slice from a DataFrame.\n",
      "Try using .loc[row_indexer,col_indexer] = value instead\n",
      "\n",
      "See the caveats in the documentation: http://pandas.pydata.org/pandas-docs/stable/indexing.html#indexing-view-versus-copy\n",
      "  \"\"\"Entry point for launching an IPython kernel.\n",
      "C:\\Apps\\lib\\site-packages\\ipykernel_launcher.py:2: SettingWithCopyWarning: \n",
      "A value is trying to be set on a copy of a slice from a DataFrame.\n",
      "Try using .loc[row_indexer,col_indexer] = value instead\n",
      "\n",
      "See the caveats in the documentation: http://pandas.pydata.org/pandas-docs/stable/indexing.html#indexing-view-versus-copy\n",
      "  \n",
      "C:\\Apps\\lib\\site-packages\\ipykernel_launcher.py:3: SettingWithCopyWarning: \n",
      "A value is trying to be set on a copy of a slice from a DataFrame.\n",
      "Try using .loc[row_indexer,col_indexer] = value instead\n",
      "\n",
      "See the caveats in the documentation: http://pandas.pydata.org/pandas-docs/stable/indexing.html#indexing-view-versus-copy\n",
      "  This is separate from the ipykernel package so we can avoid doing imports until\n",
      "C:\\Apps\\lib\\site-packages\\ipykernel_launcher.py:4: SettingWithCopyWarning: \n",
      "A value is trying to be set on a copy of a slice from a DataFrame.\n",
      "Try using .loc[row_indexer,col_indexer] = value instead\n",
      "\n",
      "See the caveats in the documentation: http://pandas.pydata.org/pandas-docs/stable/indexing.html#indexing-view-versus-copy\n",
      "  after removing the cwd from sys.path.\n",
      "C:\\Apps\\lib\\site-packages\\ipykernel_launcher.py:5: SettingWithCopyWarning: \n",
      "A value is trying to be set on a copy of a slice from a DataFrame.\n",
      "Try using .loc[row_indexer,col_indexer] = value instead\n",
      "\n",
      "See the caveats in the documentation: http://pandas.pydata.org/pandas-docs/stable/indexing.html#indexing-view-versus-copy\n",
      "  \"\"\"\n",
      "C:\\Apps\\lib\\site-packages\\ipykernel_launcher.py:6: SettingWithCopyWarning: \n",
      "A value is trying to be set on a copy of a slice from a DataFrame.\n",
      "Try using .loc[row_indexer,col_indexer] = value instead\n",
      "\n",
      "See the caveats in the documentation: http://pandas.pydata.org/pandas-docs/stable/indexing.html#indexing-view-versus-copy\n",
      "  \n",
      "C:\\Apps\\lib\\site-packages\\ipykernel_launcher.py:7: SettingWithCopyWarning: \n",
      "A value is trying to be set on a copy of a slice from a DataFrame.\n",
      "Try using .loc[row_indexer,col_indexer] = value instead\n",
      "\n",
      "See the caveats in the documentation: http://pandas.pydata.org/pandas-docs/stable/indexing.html#indexing-view-versus-copy\n",
      "  import sys\n",
      "C:\\Apps\\lib\\site-packages\\ipykernel_launcher.py:8: SettingWithCopyWarning: \n",
      "A value is trying to be set on a copy of a slice from a DataFrame.\n",
      "Try using .loc[row_indexer,col_indexer] = value instead\n",
      "\n",
      "See the caveats in the documentation: http://pandas.pydata.org/pandas-docs/stable/indexing.html#indexing-view-versus-copy\n",
      "  \n"
     ]
    }
   ],
   "source": [
    "ta1['NoteText'] = ta1['NoteText'].str.slice(0, 40)\n",
    "ta2['NoteText'] = ta2['NoteText'].str.slice(0, 40)\n",
    "ta3['NoteText'] = ta3['NoteText'].str.slice(0, 40)\n",
    "ta4['NoteText'] = ta4['NoteText'].str.slice(0, 40)\n",
    "ta5['NoteText'] = ta5['NoteText'].str.slice(0, 40)\n",
    "ta6['NoteText'] = ta6['NoteText'].str.slice(0, 40)\n",
    "ta7['NoteText'] = ta7['NoteText'].str.slice(0, 40)\n",
    "ta8['NoteText'] = ta8['NoteText'].str.slice(0, 40)\n",
    "#shortening the strings so only the behavior is found"
   ]
  },
  {
   "cell_type": "code",
   "execution_count": 33,
   "metadata": {},
   "outputs": [
    {
     "name": "stderr",
     "output_type": "stream",
     "text": [
      "C:\\Apps\\lib\\site-packages\\ipykernel_launcher.py:3: SettingWithCopyWarning: \n",
      "A value is trying to be set on a copy of a slice from a DataFrame.\n",
      "Try using .loc[row_indexer,col_indexer] = value instead\n",
      "\n",
      "See the caveats in the documentation: http://pandas.pydata.org/pandas-docs/stable/indexing.html#indexing-view-versus-copy\n",
      "  This is separate from the ipykernel package so we can avoid doing imports until\n"
     ]
    }
   ],
   "source": [
    "conditions = [(ta1['NoteText'].str.contains('', regex=True,na=False))]\n",
    "choices = ['']\n",
    "ta1 ['Behavior'] = np.select(conditions,choices,default='')\n",
    "#setting the conditions and choices for each word found in the string"
   ]
  },
  {
   "cell_type": "code",
   "execution_count": 34,
   "metadata": {},
   "outputs": [
    {
     "name": "stderr",
     "output_type": "stream",
     "text": [
      "C:\\Apps\\lib\\site-packages\\ipykernel_launcher.py:19: SettingWithCopyWarning: \n",
      "A value is trying to be set on a copy of a slice from a DataFrame.\n",
      "Try using .loc[row_indexer,col_indexer] = value instead\n",
      "\n",
      "See the caveats in the documentation: http://pandas.pydata.org/pandas-docs/stable/indexing.html#indexing-view-versus-copy\n"
     ]
    }
   ],
   "source": [
    "conditions = [\n",
    "    (ta2['NoteText'].str.contains('collaborative', regex=True,na=False)),\n",
    "    (ta2['NoteText'].str.contains('empathy', regex=True,na=False)),\n",
    "    (ta2['NoteText'].str.contains('empathi', regex=True,na=False)),\n",
    "    (ta2['NoteText'].str.contains('empathe', regex=True,na=False)),\n",
    "    (ta2['NoteText'].str.contains('sympathe', regex=True,na=False)),\n",
    "    (ta2['NoteText'].str.contains('sympathize', regex=True,na=False)),\n",
    "    (ta2['NoteText'].str.contains('sympathy', regex=True,na=False)),\n",
    "    (ta2['NoteText'].str.contains('patience', regex=True,na=False)),\n",
    "    (ta2['NoteText'].str.contains('question', regex=True,na=False)),\n",
    "    (ta2['NoteText'].str.contains('recognize', regex=True,na=False)),\n",
    "    (ta2['NoteText'].str.contains('respond', regex=True,na=False)),]\n",
    "choices = ['Collaborative','Empathize/Sympathize','Empathize/Sympathize',\n",
    "           'Empathize/Sympathize','Empathize/Sympathize','Empathize/Sympathize','Empathize/Sympathize',\n",
    "           'Patience','Questions','Recognize','Respond']\n",
    "ta2['Behavior'] = np.select(conditions, choices, default='')"
   ]
  },
  {
   "cell_type": "code",
   "execution_count": 35,
   "metadata": {},
   "outputs": [
    {
     "name": "stderr",
     "output_type": "stream",
     "text": [
      "C:\\Apps\\lib\\site-packages\\ipykernel_launcher.py:17: SettingWithCopyWarning: \n",
      "A value is trying to be set on a copy of a slice from a DataFrame.\n",
      "Try using .loc[row_indexer,col_indexer] = value instead\n",
      "\n",
      "See the caveats in the documentation: http://pandas.pydata.org/pandas-docs/stable/indexing.html#indexing-view-versus-copy\n"
     ]
    }
   ],
   "source": [
    "conditions = [(ta3['NoteText'].str.contains('communication', regex=True,na=False)),\n",
    "    (ta3['NoteText'].str.contains('educate', regex=True,na=False)),\n",
    "    (ta3['NoteText'].str.contains('empower', regex=True,na=False)),\n",
    "    (ta3['NoteText'].str.contains('fun', regex=True,na=False)),\n",
    "    (ta3['NoteText'].str.contains('personalize', regex=True,na=False)),\n",
    "    (ta3['NoteText'].str.contains('personalizi', regex=True,na=False)),\n",
    "    (ta3['NoteText'].str.contains('see', regex=True,na=False)),\n",
    "    (ta3['NoteText'].str.contains('say', regex=True,na=False)),\n",
    "    (ta3['NoteText'].str.contains('outside', regex=True,na=False)),\n",
    "    (ta3['NoteText'].str.contains('trust', regex=True,na=False)),\n",
    "    (ta3['NoteText'].str.contains('date', regex=True,na=False)),\n",
    "    (ta3['NoteText'].str.contains('web', regex=True,na=False))]\n",
    "choices = ['Communications','Educate','Empowered','Have Fun','Personalize','Personalize','See/Say','See/Say','Think Outside the Box','Trust',\n",
    "           'Up to Date','Web']\n",
    "ta3['Behavior'] = np.select(conditions, choices, default='')"
   ]
  },
  {
   "cell_type": "code",
   "execution_count": 36,
   "metadata": {},
   "outputs": [
    {
     "name": "stderr",
     "output_type": "stream",
     "text": [
      "C:\\Apps\\lib\\site-packages\\ipykernel_launcher.py:20: SettingWithCopyWarning: \n",
      "A value is trying to be set on a copy of a slice from a DataFrame.\n",
      "Try using .loc[row_indexer,col_indexer] = value instead\n",
      "\n",
      "See the caveats in the documentation: http://pandas.pydata.org/pandas-docs/stable/indexing.html#indexing-view-versus-copy\n"
     ]
    }
   ],
   "source": [
    "conditions = [(ta5['NoteText'].str.contains('acknowledge', regex=True,na=False)),\n",
    "    (ta5['NoteText'].str.contains('advice', regex=True,na=False)),\n",
    "    (ta5['NoteText'].str.contains('approach', regex=True,na=False)),\n",
    "    (ta5['NoteText'].str.contains('assist', regex=True,na=False)),\n",
    "    (ta5['NoteText'].str.contains('brand', regex=True,na=False)),\n",
    "    (ta5['NoteText'].str.contains('closing', regex=True,na=False)),\n",
    "    (ta5['NoteText'].str.contains('courteous', regex=True,na=False)),\n",
    "    (ta5['NoteText'].str.contains('help', regex=True,na=False)),\n",
    "    (ta5['NoteText'].str.contains('hold', regex=True,na=False)),\n",
    "    (ta5['NoteText'].str.contains('open', regex=True,na=False)), \n",
    "    (ta5['NoteText'].str.contains('organize', regex=True,na=False)),\n",
    "    (ta5['NoteText'].str.contains('pace', regex=True,na=False)),\n",
    "    (ta5['NoteText'].str.contains('tone', regex=True,na=False)),\n",
    "    (ta5['NoteText'].str.contains('rapport', regex=True,na=False))]\n",
    "choices = ['Acknowledge','Advice','Appoach','Assistance','Brand','Closing','Courteous',\n",
    "           'Happy to Help','Hold Time','Opening','Organized','Pace and Tone','Pace and Tone','Rapport']\n",
    "ta5['Behavior'] = np.select(conditions, choices, default='')"
   ]
  },
  {
   "cell_type": "code",
   "execution_count": 37,
   "metadata": {},
   "outputs": [
    {
     "name": "stderr",
     "output_type": "stream",
     "text": [
      "C:\\Apps\\lib\\site-packages\\ipykernel_launcher.py:1: SettingWithCopyWarning: \n",
      "A value is trying to be set on a copy of a slice from a DataFrame.\n",
      "Try using .loc[row_indexer,col_indexer] = value instead\n",
      "\n",
      "See the caveats in the documentation: http://pandas.pydata.org/pandas-docs/stable/indexing.html#indexing-view-versus-copy\n",
      "  \"\"\"Entry point for launching an IPython kernel.\n"
     ]
    }
   ],
   "source": [
    "ta4['Behavior'] = ta4['questiontext']"
   ]
  },
  {
   "cell_type": "code",
   "execution_count": 38,
   "metadata": {},
   "outputs": [
    {
     "name": "stderr",
     "output_type": "stream",
     "text": [
      "C:\\Apps\\lib\\site-packages\\ipykernel_launcher.py:14: SettingWithCopyWarning: \n",
      "A value is trying to be set on a copy of a slice from a DataFrame.\n",
      "Try using .loc[row_indexer,col_indexer] = value instead\n",
      "\n",
      "See the caveats in the documentation: http://pandas.pydata.org/pandas-docs/stable/indexing.html#indexing-view-versus-copy\n",
      "  \n"
     ]
    }
   ],
   "source": [
    "conditions = [(ta6['NoteText'].str.contains('beyond',regex=True,na=False)),\n",
    "    (ta6['NoteText'].str.contains('call log',regex=True,na=False)),\n",
    "    (ta6['NoteText'].str.contains('clear step',regex=True,na=False)),\n",
    "    (ta6['NoteText'].str.contains('clos',regex=True,na=False)),\n",
    "    (ta6['NoteText'].str.contains('clarify',regex=True,na=False)),\n",
    "    (ta6['NoteText'].str.contains('explain',regex=True,na=False)),\n",
    "    (ta6['NoteText'].str.contains('ownership',regex=True,na=False)),\n",
    "    (ta6['NoteText'].str.contains('question',regex=True,na=False)),\n",
    "    (ta6['NoteText'].str.contains('resource',regex=True,na=False)),\n",
    "    (ta6['NoteText'].str.contains('tentative',regex=True,na=False))]\n",
    "choices = ['Above and Beyond',\n",
    "           'Call Log','Clear Steps','Close','Explain','Explain','Ownership','Questions','Resources','Tentative']\n",
    "ta6['Behavior'] = np.select(conditions, choices, default='')"
   ]
  },
  {
   "cell_type": "code",
   "execution_count": 39,
   "metadata": {},
   "outputs": [
    {
     "name": "stderr",
     "output_type": "stream",
     "text": [
      "C:\\Apps\\lib\\site-packages\\ipykernel_launcher.py:3: SettingWithCopyWarning: \n",
      "A value is trying to be set on a copy of a slice from a DataFrame.\n",
      "Try using .loc[row_indexer,col_indexer] = value instead\n",
      "\n",
      "See the caveats in the documentation: http://pandas.pydata.org/pandas-docs/stable/indexing.html#indexing-view-versus-copy\n",
      "  This is separate from the ipykernel package so we can avoid doing imports until\n"
     ]
    }
   ],
   "source": [
    "conditions = [(ta7['NoteText'].str.contains('', regex=True,na=False))]\n",
    "choices = ['']\n",
    "ta7 ['Behavior'] = np.select(conditions,choices,default='')"
   ]
  },
  {
   "cell_type": "code",
   "execution_count": 40,
   "metadata": {},
   "outputs": [
    {
     "name": "stderr",
     "output_type": "stream",
     "text": [
      "C:\\Apps\\lib\\site-packages\\ipykernel_launcher.py:1: SettingWithCopyWarning: \n",
      "A value is trying to be set on a copy of a slice from a DataFrame.\n",
      "Try using .loc[row_indexer,col_indexer] = value instead\n",
      "\n",
      "See the caveats in the documentation: http://pandas.pydata.org/pandas-docs/stable/indexing.html#indexing-view-versus-copy\n",
      "  \"\"\"Entry point for launching an IPython kernel.\n"
     ]
    }
   ],
   "source": [
    "ta8['Behavior'] = ta8['questiontext']"
   ]
  },
  {
   "cell_type": "code",
   "execution_count": 41,
   "metadata": {
    "collapsed": true
   },
   "outputs": [],
   "source": [
    "ta1 = ta1[['questiontext','Call_Date','callduration','QuestionResult','Behavior']]\n",
    "ta2 = ta2[['questiontext','Call_Date','callduration','QuestionResult','Behavior']]\n",
    "ta3 = ta3[['questiontext','Call_Date','callduration','QuestionResult','Behavior']]\n",
    "ta4 = ta4[['questiontext','Call_Date','callduration','QuestionResult','Behavior']]\n",
    "ta5 = ta5[['questiontext','Call_Date','callduration','QuestionResult','Behavior']]\n",
    "ta6 = ta6[['questiontext','Call_Date','callduration','QuestionResult','Behavior']]\n",
    "ta7 = ta7[['questiontext','Call_Date','callduration','QuestionResult','Behavior']]\n",
    "ta8 = ta8[['questiontext','Call_Date','callduration','QuestionResult','Behavior']]\n",
    "#dropping the note text since it was manipulated"
   ]
  },
  {
   "cell_type": "code",
   "execution_count": 42,
   "metadata": {
    "collapsed": true
   },
   "outputs": [],
   "source": [
    "ta9 = pd.concat([ta1,ta2,ta3,ta4,ta5,ta6,ta7,ta8])"
   ]
  },
  {
   "cell_type": "code",
   "execution_count": 43,
   "metadata": {
    "collapsed": true
   },
   "outputs": [],
   "source": [
    "ta = pd.merge(ta,ta9,how='inner',on=['questiontext','Call_Date','callduration','QuestionResult'])\n",
    "#combined to original dataframe"
   ]
  },
  {
   "cell_type": "code",
   "execution_count": 44,
   "metadata": {
    "collapsed": true
   },
   "outputs": [],
   "source": [
    "ta.to_excel(\"C:\\\\Users\\\\f5708\\\\Documents\\\\text data support.xlsx\", index=False)\n",
    "#exported to support file to be linked to (saving right to the original file destroys formatting)"
   ]
  },
  {
   "cell_type": "code",
   "execution_count": 45,
   "metadata": {
    "collapsed": true
   },
   "outputs": [],
   "source": [
    "ta = pd.read_excel('C:\\\\Users\\\\f5708\\\\Documents\\\\text analytics opportunity.xlsx',sheetname='Champion Trends')"
   ]
  },
  {
   "cell_type": "code",
   "execution_count": 46,
   "metadata": {
    "collapsed": true
   },
   "outputs": [],
   "source": [
    "ta = ta[['Call_Date','callduration','questiontext','QuestionResult','NoteText']]\n",
    "#keeping the fields that are important"
   ]
  },
  {
   "cell_type": "code",
   "execution_count": 47,
   "metadata": {
    "collapsed": true
   },
   "outputs": [],
   "source": [
    "ta = ta.set_index('questiontext')\n",
    "ta1 = ta.loc[['Active Listening']]\n",
    "ta2 = ta.loc[['Awareness']]\n",
    "ta3 = ta.loc[['Professionalism']]\n",
    "ta4 = ta.loc[['Resolution']]\n",
    "ta.reset_index(inplace=True)\n",
    "ta1.reset_index(inplace=True)\n",
    "ta2.reset_index(inplace=True)\n",
    "ta3.reset_index(inplace=True)\n",
    "ta4.reset_index(inplace=True)\n",
    "#splitting the dataframe up to cut up the notes after the operative word"
   ]
  },
  {
   "cell_type": "code",
   "execution_count": 48,
   "metadata": {},
   "outputs": [
    {
     "name": "stderr",
     "output_type": "stream",
     "text": [
      "C:\\Apps\\lib\\site-packages\\ipykernel_launcher.py:1: SettingWithCopyWarning: \n",
      "A value is trying to be set on a copy of a slice from a DataFrame.\n",
      "Try using .loc[row_indexer,col_indexer] = value instead\n",
      "\n",
      "See the caveats in the documentation: http://pandas.pydata.org/pandas-docs/stable/indexing.html#indexing-view-versus-copy\n",
      "  \"\"\"Entry point for launching an IPython kernel.\n",
      "C:\\Apps\\lib\\site-packages\\ipykernel_launcher.py:2: SettingWithCopyWarning: \n",
      "A value is trying to be set on a copy of a slice from a DataFrame.\n",
      "Try using .loc[row_indexer,col_indexer] = value instead\n",
      "\n",
      "See the caveats in the documentation: http://pandas.pydata.org/pandas-docs/stable/indexing.html#indexing-view-versus-copy\n",
      "  \n",
      "C:\\Apps\\lib\\site-packages\\ipykernel_launcher.py:3: SettingWithCopyWarning: \n",
      "A value is trying to be set on a copy of a slice from a DataFrame.\n",
      "Try using .loc[row_indexer,col_indexer] = value instead\n",
      "\n",
      "See the caveats in the documentation: http://pandas.pydata.org/pandas-docs/stable/indexing.html#indexing-view-versus-copy\n",
      "  This is separate from the ipykernel package so we can avoid doing imports until\n",
      "C:\\Apps\\lib\\site-packages\\ipykernel_launcher.py:4: SettingWithCopyWarning: \n",
      "A value is trying to be set on a copy of a slice from a DataFrame.\n",
      "Try using .loc[row_indexer,col_indexer] = value instead\n",
      "\n",
      "See the caveats in the documentation: http://pandas.pydata.org/pandas-docs/stable/indexing.html#indexing-view-versus-copy\n",
      "  after removing the cwd from sys.path.\n",
      "C:\\Apps\\lib\\site-packages\\ipykernel_launcher.py:5: SettingWithCopyWarning: \n",
      "A value is trying to be set on a copy of a slice from a DataFrame.\n",
      "Try using .loc[row_indexer,col_indexer] = value instead\n",
      "\n",
      "See the caveats in the documentation: http://pandas.pydata.org/pandas-docs/stable/indexing.html#indexing-view-versus-copy\n",
      "  \"\"\"\n",
      "C:\\Apps\\lib\\site-packages\\ipykernel_launcher.py:6: SettingWithCopyWarning: \n",
      "A value is trying to be set on a copy of a slice from a DataFrame.\n",
      "Try using .loc[row_indexer,col_indexer] = value instead\n",
      "\n",
      "See the caveats in the documentation: http://pandas.pydata.org/pandas-docs/stable/indexing.html#indexing-view-versus-copy\n",
      "  \n",
      "C:\\Apps\\lib\\site-packages\\ipykernel_launcher.py:7: SettingWithCopyWarning: \n",
      "A value is trying to be set on a copy of a slice from a DataFrame.\n",
      "Try using .loc[row_indexer,col_indexer] = value instead\n",
      "\n",
      "See the caveats in the documentation: http://pandas.pydata.org/pandas-docs/stable/indexing.html#indexing-view-versus-copy\n",
      "  import sys\n",
      "C:\\Apps\\lib\\site-packages\\ipykernel_launcher.py:8: SettingWithCopyWarning: \n",
      "A value is trying to be set on a copy of a slice from a DataFrame.\n",
      "Try using .loc[row_indexer,col_indexer] = value instead\n",
      "\n",
      "See the caveats in the documentation: http://pandas.pydata.org/pandas-docs/stable/indexing.html#indexing-view-versus-copy\n",
      "  \n"
     ]
    }
   ],
   "source": [
    "ta1['NoteText'] = ta1.NoteText.str.lower()\n",
    "ta2['NoteText'] = ta2.NoteText.str.lower()\n",
    "ta3['NoteText'] = ta3.NoteText.str.lower()\n",
    "ta4['NoteText'] = ta4.NoteText.str.lower()\n",
    "ta1['NoteText'] = ta1.NoteText.str.split('active listening').str[1]\n",
    "ta2['NoteText'] = ta2.NoteText.str.split('awareness').str[1]\n",
    "ta3['NoteText'] = ta3.NoteText.str.split('professionalism').str[1]\n",
    "ta4['NoteText'] = ta4.NoteText.str.split('resolution').str[1]\n",
    "#setting to everything to lowercase so the operative word can be found easier then splitting the string "
   ]
  },
  {
   "cell_type": "code",
   "execution_count": 49,
   "metadata": {},
   "outputs": [
    {
     "name": "stderr",
     "output_type": "stream",
     "text": [
      "C:\\Apps\\lib\\site-packages\\ipykernel_launcher.py:1: SettingWithCopyWarning: \n",
      "A value is trying to be set on a copy of a slice from a DataFrame.\n",
      "Try using .loc[row_indexer,col_indexer] = value instead\n",
      "\n",
      "See the caveats in the documentation: http://pandas.pydata.org/pandas-docs/stable/indexing.html#indexing-view-versus-copy\n",
      "  \"\"\"Entry point for launching an IPython kernel.\n",
      "C:\\Apps\\lib\\site-packages\\ipykernel_launcher.py:2: SettingWithCopyWarning: \n",
      "A value is trying to be set on a copy of a slice from a DataFrame.\n",
      "Try using .loc[row_indexer,col_indexer] = value instead\n",
      "\n",
      "See the caveats in the documentation: http://pandas.pydata.org/pandas-docs/stable/indexing.html#indexing-view-versus-copy\n",
      "  \n",
      "C:\\Apps\\lib\\site-packages\\ipykernel_launcher.py:3: SettingWithCopyWarning: \n",
      "A value is trying to be set on a copy of a slice from a DataFrame.\n",
      "Try using .loc[row_indexer,col_indexer] = value instead\n",
      "\n",
      "See the caveats in the documentation: http://pandas.pydata.org/pandas-docs/stable/indexing.html#indexing-view-versus-copy\n",
      "  This is separate from the ipykernel package so we can avoid doing imports until\n",
      "C:\\Apps\\lib\\site-packages\\ipykernel_launcher.py:4: SettingWithCopyWarning: \n",
      "A value is trying to be set on a copy of a slice from a DataFrame.\n",
      "Try using .loc[row_indexer,col_indexer] = value instead\n",
      "\n",
      "See the caveats in the documentation: http://pandas.pydata.org/pandas-docs/stable/indexing.html#indexing-view-versus-copy\n",
      "  after removing the cwd from sys.path.\n"
     ]
    }
   ],
   "source": [
    "ta1['NoteText'] = ta1['NoteText'].str.slice(0, 40)\n",
    "ta2['NoteText'] = ta2['NoteText'].str.slice(0, 40)\n",
    "ta3['NoteText'] = ta3['NoteText'].str.slice(0, 40)\n",
    "ta4['NoteText'] = ta4['NoteText'].str.slice(0, 40)\n",
    "#shortening the strings so only the behavior is found"
   ]
  },
  {
   "cell_type": "code",
   "execution_count": 52,
   "metadata": {},
   "outputs": [
    {
     "name": "stderr",
     "output_type": "stream",
     "text": [
      "C:\\Apps\\lib\\site-packages\\ipykernel_launcher.py:19: SettingWithCopyWarning: \n",
      "A value is trying to be set on a copy of a slice from a DataFrame.\n",
      "Try using .loc[row_indexer,col_indexer] = value instead\n",
      "\n",
      "See the caveats in the documentation: http://pandas.pydata.org/pandas-docs/stable/indexing.html#indexing-view-versus-copy\n"
     ]
    }
   ],
   "source": [
    "conditions = [\n",
    "    (ta1['NoteText'].str.contains('collaborative', regex=True,na=False)),\n",
    "    (ta1['NoteText'].str.contains('empath', regex=True,na=False)),\n",
    "    (ta1['NoteText'].str.contains('sympath', regex=True,na=False)),\n",
    "    (ta1['NoteText'].str.contains('patience', regex=True,na=False)),\n",
    "    (ta1['NoteText'].str.contains('questions', regex=True,na=False)),\n",
    "    (ta1['NoteText'].str.contains('recognize', regex=True,na=False)),\n",
    "    (ta1['NoteText'].str.contains('respond', regex=True,na=False)),]\n",
    "choices = ['Collaborative','Empathize/Sympathize','Empathize/Sympathize',\n",
    "           'Patience','Questions','Recognize','Respond']\n",
    "ta1['Behavior'] = np.select(conditions, choices, default='')"
   ]
  },
  {
   "cell_type": "code",
   "execution_count": 53,
   "metadata": {},
   "outputs": [
    {
     "name": "stderr",
     "output_type": "stream",
     "text": [
      "C:\\Apps\\lib\\site-packages\\ipykernel_launcher.py:17: SettingWithCopyWarning: \n",
      "A value is trying to be set on a copy of a slice from a DataFrame.\n",
      "Try using .loc[row_indexer,col_indexer] = value instead\n",
      "\n",
      "See the caveats in the documentation: http://pandas.pydata.org/pandas-docs/stable/indexing.html#indexing-view-versus-copy\n"
     ]
    }
   ],
   "source": [
    "conditions = [(ta2['NoteText'].str.contains('communications', regex=True,na=False)),\n",
    "    (ta2['NoteText'].str.contains('educate', regex=True,na=False)),\n",
    "    (ta2['NoteText'].str.contains('empower', regex=True,na=False)),\n",
    "    (ta2['NoteText'].str.contains('fun', regex=True,na=False)),\n",
    "    (ta2['NoteText'].str.contains('personal', regex=True,na=False)),\n",
    "    (ta2['NoteText'].str.contains('see', regex=True,na=False)),\n",
    "    (ta2['NoteText'].str.contains('say', regex=True,na=False)),\n",
    "    (ta2['NoteText'].str.contains('outside', regex=True,na=False)),\n",
    "    (ta2['NoteText'].str.contains('trust', regex=True,na=False)),\n",
    "    (ta2['NoteText'].str.contains('date', regex=True,na=False)),\n",
    "    (ta2['NoteText'].str.contains('web', regex=True,na=False))]\n",
    "choices = ['Communications','Educate','Empowered','Have Fun','Personalize','See/Say','See/Say','Think Outside the Box','Trust',\n",
    "           'Up to Date','Web']\n",
    "ta2['Behavior'] = np.select(conditions, choices, default='')"
   ]
  },
  {
   "cell_type": "code",
   "execution_count": 54,
   "metadata": {},
   "outputs": [
    {
     "name": "stderr",
     "output_type": "stream",
     "text": [
      "C:\\Apps\\lib\\site-packages\\ipykernel_launcher.py:21: SettingWithCopyWarning: \n",
      "A value is trying to be set on a copy of a slice from a DataFrame.\n",
      "Try using .loc[row_indexer,col_indexer] = value instead\n",
      "\n",
      "See the caveats in the documentation: http://pandas.pydata.org/pandas-docs/stable/indexing.html#indexing-view-versus-copy\n"
     ]
    }
   ],
   "source": [
    "conditions = [(ta3['NoteText'].str.contains('acknowledg', regex=True,na=False)),\n",
    "    (ta3['NoteText'].str.contains('advice', regex=True,na=False)),\n",
    "    (ta3['NoteText'].str.contains('approach', regex=True,na=False)),\n",
    "    (ta3['NoteText'].str.contains('assist', regex=True,na=False)),\n",
    "    (ta3['NoteText'].str.contains('brand', regex=True,na=False)),\n",
    "    (ta3['NoteText'].str.contains('clos', regex=True,na=False)),\n",
    "    (ta3['NoteText'].str.contains('courteous', regex=True,na=False)),\n",
    "    (ta3['NoteText'].str.contains('help', regex=True,na=False)),\n",
    "    (ta3['NoteText'].str.contains('hold', regex=True,na=False)),\n",
    "    (ta3['NoteText'].str.contains('opening', regex=True,na=False)), \n",
    "    (ta3['NoteText'].str.contains('organiz', regex=True,na=False)),\n",
    "    (ta3['NoteText'].str.contains('pace', regex=True,na=False)),\n",
    "    (ta3['NoteText'].str.contains('tone', regex=True,na=False)),\n",
    "    (ta3['NoteText'].str.contains('rapport', regex=True,na=False)),\n",
    "    (ta3['NoteText'].str.contains('terminology', regex=True,na=False))]\n",
    "choices = ['Acknowledge','Advice','Appoach','Assistance','Brand','Closing','Courteous',\n",
    "           'Happy to Help','Hold Time','Opening','Organized','Pace and Tone','Pace and Tone','Rapport','Terminology']\n",
    "ta3['Behavior'] = np.select(conditions, choices, default='')"
   ]
  },
  {
   "cell_type": "code",
   "execution_count": 55,
   "metadata": {},
   "outputs": [
    {
     "name": "stderr",
     "output_type": "stream",
     "text": [
      "C:\\Apps\\lib\\site-packages\\ipykernel_launcher.py:14: SettingWithCopyWarning: \n",
      "A value is trying to be set on a copy of a slice from a DataFrame.\n",
      "Try using .loc[row_indexer,col_indexer] = value instead\n",
      "\n",
      "See the caveats in the documentation: http://pandas.pydata.org/pandas-docs/stable/indexing.html#indexing-view-versus-copy\n",
      "  \n"
     ]
    }
   ],
   "source": [
    "conditions = [(ta4['NoteText'].str.contains('beyond',regex=True,na=False)),\n",
    "    (ta4['NoteText'].str.contains('call log',regex=True,na=False)),\n",
    "    (ta4['NoteText'].str.contains('clear step',regex=True,na=False)),\n",
    "    (ta4['NoteText'].str.contains('clos',regex=True,na=False)),\n",
    "    (ta4['NoteText'].str.contains('clarify',regex=True,na=False)),\n",
    "    (ta4['NoteText'].str.contains('explain',regex=True,na=False)),\n",
    "    (ta4['NoteText'].str.contains('owner',regex=True,na=False)),\n",
    "    (ta4['NoteText'].str.contains('question',regex=True,na=False)),\n",
    "    (ta4['NoteText'].str.contains('resource',regex=True,na=False)),\n",
    "    (ta4['NoteText'].str.contains('tentative',regex=True,na=False))]\n",
    "choices = ['Above and Beyond',\n",
    "           'Call Log','Clear Steps','Close','Explain','Explain','Ownership','Questions','Resources','Tentative']\n",
    "ta4['Behavior'] = np.select(conditions, choices, default='')"
   ]
  },
  {
   "cell_type": "code",
   "execution_count": 56,
   "metadata": {
    "collapsed": true
   },
   "outputs": [],
   "source": [
    "ta1 = ta1[['questiontext','Call_Date','callduration','QuestionResult','Behavior']]\n",
    "ta2 = ta2[['questiontext','Call_Date','callduration','QuestionResult','Behavior']]\n",
    "ta3 = ta3[['questiontext','Call_Date','callduration','QuestionResult','Behavior']]\n",
    "ta4 = ta4[['questiontext','Call_Date','callduration','QuestionResult','Behavior']]\n",
    "#dropping the note text since it was manipulated"
   ]
  },
  {
   "cell_type": "code",
   "execution_count": 57,
   "metadata": {
    "collapsed": true
   },
   "outputs": [],
   "source": [
    "ta9 = pd.concat([ta1,ta2,ta3,ta4])"
   ]
  },
  {
   "cell_type": "code",
   "execution_count": 58,
   "metadata": {
    "collapsed": true
   },
   "outputs": [],
   "source": [
    "ta = pd.merge(ta,ta9,how='inner',on=['questiontext','Call_Date','callduration','QuestionResult'])\n",
    "#combined to original dataframe"
   ]
  },
  {
   "cell_type": "code",
   "execution_count": 59,
   "metadata": {
    "collapsed": true
   },
   "outputs": [],
   "source": [
    "ta.to_excel(\"C:\\\\Users\\\\f5708\\\\Documents\\\\text data support 2.xlsx\", index=False)\n",
    "#exported to support file to be linked to (saving right to the original file destroys formatting)"
   ]
  }
 ],
 "metadata": {
  "kernelspec": {
   "display_name": "Python 3",
   "language": "python",
   "name": "python3"
  },
  "language_info": {
   "codemirror_mode": {
    "name": "ipython",
    "version": 3
   },
   "file_extension": ".py",
   "mimetype": "text/x-python",
   "name": "python",
   "nbconvert_exporter": "python",
   "pygments_lexer": "ipython3",
   "version": "3.7.3"
  }
 },
 "nbformat": 4,
 "nbformat_minor": 2
}
